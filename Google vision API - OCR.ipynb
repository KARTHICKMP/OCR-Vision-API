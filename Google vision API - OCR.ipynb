{
 "cells": [
  {
   "cell_type": "markdown",
   "metadata": {},
   "source": [
    "#### This file has request-response module to get PAN images from user and convert to JSON using google VISION API response"
   ]
  },
  {
   "cell_type": "code",
   "execution_count": 9,
   "metadata": {},
   "outputs": [],
   "source": [
    "# !pip install pdf2image\n",
    "# !sudo apt install poppler-utils"
   ]
  },
  {
   "cell_type": "code",
   "execution_count": 1,
   "metadata": {},
   "outputs": [],
   "source": [
    "import numpy as np\n",
    "import cv2\n",
    "from PIL import Image\n",
    "import requests\n",
    "import base64\n",
    "import re\n",
    "import PIL.ImageOps\n",
    "import os\n",
    "import pandas as pd\n",
    "from scipy.ndimage.interpolation import zoom\n",
    "import json\n",
    "from PIL import ImageEnhance\n",
    "import time\n",
    "from pdf2image import convert_from_path\n",
    "import collections\n",
    "import io"
   ]
  },
  {
   "cell_type": "code",
   "execution_count": 2,
   "metadata": {},
   "outputs": [],
   "source": [
    "##CALLING OCR API\n",
    "def detect_image_text(image):\n",
    "#     url = 'https://vision.googleapis.com/v1/images:annotate?key=xxxxxxxxx2e32e3242dasdfadxxxxxxxxxx'\n",
    "# provide the key below to access google vision api\n",
    "  url = 'https://vision.googleapis.com/v1/images:annotate?key='\n",
    "  res = []\n",
    "  img_base64 = base64.b64encode(image)\n",
    "  ig = str(img_base64)\n",
    "  ik=ig.replace('b\\'','')\n",
    "  headers={'content-type': 'application/json'}\n",
    "  data =\"\"\"{\n",
    "    \"requests\": [\n",
    "      {\n",
    "        \"image\": {\n",
    "                 \"content\": '\"\"\"+ik[:-1]+\"\"\"'\n",
    "\n",
    "                  },\n",
    "\n",
    "        \"features\": [\n",
    "          {\n",
    "            \"type\": \"DOCUMENT_TEXT_DETECTION\"\n",
    "          }\n",
    "        ]\n",
    "      }\n",
    "    ]\n",
    "  }\"\"\"\n",
    "  r = requests.post(url, headers=headers,data=data)\n",
    "  result = json.loads(r.text)\n",
    "  return(result)"
   ]
  },
  {
   "cell_type": "code",
   "execution_count": 3,
   "metadata": {},
   "outputs": [],
   "source": [
    "def frequency_ocr1(r):\n",
    "    try:\n",
    "        r['responses'][0]['textAnnotations'][1:]  \n",
    "    except:\n",
    "        return('0')\n",
    "        \n",
    "    word_infos = []\n",
    "    for i, number in enumerate(r['responses'][0]['textAnnotations']):\n",
    "        dic = dict()\n",
    "        rect = r['responses'][0]['textAnnotations'][i]['boundingPoly']['vertices']\n",
    "        text = r['responses'][0]['textAnnotations'][i]['description']\n",
    "        pt1 = []\n",
    "        pt2 = []\n",
    "        try:\n",
    "            pt1 = [rect[0]['x'], rect[0]['y']]\n",
    "            pt2 = [rect[2]['x'], rect[2]['y']]\n",
    "        except:\n",
    "             continue\n",
    "        dic['boundingBox_list'] = pt1 + pt2\n",
    "        pt1.extend([-pt1[0] + pt2[0], -pt1[1] + pt2[1]])\n",
    "        #str(round(pt1))\n",
    "        dic['boundingBox'] = ', '.join(repr(e) for e in pt1)\n",
    "        dic['text'] = text\n",
    "        word_infos.append(dic)\n",
    "    word_info = word_infos[1:len(word_infos)]\n",
    "    urls = []\n",
    "    urlls=[]\n",
    "    box_cordinate_list = []\n",
    "    ##########extract only text and boundingbox from dict\n",
    "    for i in range(len(word_info)):\n",
    "        box_cordinate_list.append(word_info[i]['boundingBox_list'])\n",
    "        urls.append(word_info[i]['text'])\n",
    "        urlls.append(word_info[i]['boundingBox'])\n",
    "\n",
    "    df = pd.DataFrame({'Rows':urls, 'Co-ordinates':urlls})\n",
    "    df  = pd.concat([df['Rows'],df['Co-ordinates'].str.split(\",\",expand= True)],axis =1)\n",
    "    df.columns = ['Rows21','X','Y','Xh','Yk']\n",
    "    df[['X','Y','Xh','Yk']] = df[['X','Y','Xh','Yk']].apply(pd.to_numeric)\n",
    "    df['Xh'] = df['X'] + df['Xh']\n",
    "    df['Yk'] = df['Y'] + df['Yk']\n",
    "    return(df)"
   ]
  },
  {
   "cell_type": "code",
   "execution_count": 5,
   "metadata": {},
   "outputs": [],
   "source": [
    "# To be changed according to the images location\n",
    "\n",
    "os.chdir(r'C:\\Users\\Dell\\Desktop\\Acadgild\\project\\ocr\\Images_and_output\\Query_Images')\n",
    "path = r'C:\\Users\\Dell\\Desktop\\Acadgild\\project\\ocr\\Images_and_output\\Query_Images'"
   ]
  },
  {
   "cell_type": "code",
   "execution_count": 6,
   "metadata": {},
   "outputs": [],
   "source": [
    "def pan_number(df):\n",
    "  pan = \"\"\n",
    "  for i in range(0,len(df)):\n",
    "    text = df.iloc[i]['Rows21']\n",
    "    if(re.search(\"[A-Z]{5}[0-9]{4}[A-Z]\",text)):\n",
    "      pan = text\n",
    "      return pan\n",
    "  pan = \"not readable\"\n",
    "  return pan"
   ]
  },
  {
   "cell_type": "code",
   "execution_count": 14,
   "metadata": {},
   "outputs": [],
   "source": [
    "# !pip install image"
   ]
  },
  {
   "cell_type": "code",
   "execution_count": 15,
   "metadata": {},
   "outputs": [],
   "source": [
    "# to covert tif image to jpg\n",
    "from PIL import Image \n",
    "im = Image.open(r\"C:\\Users\\Dell\\Desktop\\Acadgild\\project\\ocr\\Images_and_output\\Query_Images\\000080.tif\") \n",
    "im.save(r\"C:\\Users\\Dell\\Desktop\\Acadgild\\project\\ocr\\Images_and_output\\Query_Images\\000080.jpg\", dpi=(600,600) )"
   ]
  },
  {
   "cell_type": "code",
   "execution_count": 7,
   "metadata": {},
   "outputs": [],
   "source": [
    "# Below code works well only for single image for which name is given and written considering a PAN card\n",
    "\n",
    "filename = '005066.jpg'\n",
    "new_file_name = filename\n",
    "image_bytes = open(new_file_name,'rb')\n",
    "image_bytes = image_bytes.read()\n",
    "image = np.array(Image.open(io.BytesIO(image_bytes)))\n",
    "image_bytes = cv2.imencode('.jpg',image)[1].tostring()\n",
    "response = detect_image_text(image_bytes)\n",
    "\n",
    "\n",
    "\n",
    "print(response['responses'][0]['textAnnotations'][0]['description'])\n",
    "temp = response['responses'][0]['textAnnotations'][0]['description']\n",
    "with open(\"005066.txt\",\"wb\") as fp:\n",
    "    fp.write(temp.encode(\"utf-8\"))\n",
    "df = frequency_ocr1(response)\n",
    "print(df)\n",
    "PAN_NO = pan_number(df)\n",
    "print(PAN_NO)\n",
    "\n",
    "\n"
   ]
  },
  {
   "cell_type": "markdown",
   "metadata": {},
   "source": [
    "#  NOTE: use \"response\" variable output to parse json"
   ]
  },
  {
   "cell_type": "code",
   "execution_count": 19,
   "metadata": {},
   "outputs": [
    {
     "name": "stdout",
     "output_type": "stream",
     "text": [
      "162412204-000385.jpg\n",
      "created file: C:\\Users\\Dell\\Desktop\\Acadgild\\project\\ocr\\Images_and_output\\Query_Images\\\\162412204-000385.txt\n",
      "162416028-000001.jpg\n",
      "162416028-000002.jpg\n",
      "created file: C:\\Users\\Dell\\Desktop\\Acadgild\\project\\ocr\\Images_and_output\\Query_Images\\\\162416028-000002.txt\n",
      "162416028-000301.jpg\n",
      "created file: C:\\Users\\Dell\\Desktop\\Acadgild\\project\\ocr\\Images_and_output\\Query_Images\\\\162416028-000301.txt\n",
      "541268689-00000001.jpg\n",
      "created file: C:\\Users\\Dell\\Desktop\\Acadgild\\project\\ocr\\Images_and_output\\Query_Images\\\\541268689-00000001.txt\n",
      "541268689-00000002.jpg\n",
      "created file: C:\\Users\\Dell\\Desktop\\Acadgild\\project\\ocr\\Images_and_output\\Query_Images\\\\541268689-00000002.txt\n",
      "541268689-00003231.jpg\n",
      "created file: C:\\Users\\Dell\\Desktop\\Acadgild\\project\\ocr\\Images_and_output\\Query_Images\\\\541268689-00003231.txt\n",
      "541268689-00003232.jpg\n",
      "created file: C:\\Users\\Dell\\Desktop\\Acadgild\\project\\ocr\\Images_and_output\\Query_Images\\\\541268689-00003232.txt\n",
      "541270491-000086.jpg\n",
      "created file: C:\\Users\\Dell\\Desktop\\Acadgild\\project\\ocr\\Images_and_output\\Query_Images\\\\541270491-000086.txt\n",
      "541270491-000087.jpg\n",
      "541272544-002520.jpg\n",
      "created file: C:\\Users\\Dell\\Desktop\\Acadgild\\project\\ocr\\Images_and_output\\Query_Images\\\\541272544-002520.txt\n",
      "543129168-000219.jpg\n",
      "created file: C:\\Users\\Dell\\Desktop\\Acadgild\\project\\ocr\\Images_and_output\\Query_Images\\\\543129168-000219.txt\n",
      "543136209-000017.jpg\n",
      "543918491-001380.jpg\n",
      "created file: C:\\Users\\Dell\\Desktop\\Acadgild\\project\\ocr\\Images_and_output\\Query_Images\\\\543918491-001380.txt\n",
      "543918491-001381.jpg\n",
      "created file: C:\\Users\\Dell\\Desktop\\Acadgild\\project\\ocr\\Images_and_output\\Query_Images\\\\543918491-001381.txt\n"
     ]
    }
   ],
   "source": [
    "import ntpath\n",
    "from PIL import Image \n",
    "\n",
    "# give folder path from where reads jpg image and converts to text \n",
    "basepath = r'C:\\Users\\Dell\\Desktop\\Acadgild\\project\\ocr\\Images_and_output\\Query_Images\\\\'\n",
    "for val in glob.glob(basepath+'*.jpg'):\n",
    "    try:\n",
    "        print(ntpath.basename(val))\n",
    "        filename = ntpath.basename(val).split(\".\")[0]\n",
    "\n",
    "        image_bytes = open(val,'rb')\n",
    "        image_bytes = image_bytes.read()\n",
    "        image = np.array(Image.open(io.BytesIO(image_bytes)))\n",
    "        image_bytes = cv2.imencode('.jpg',image)[1].tostring()\n",
    "        # call to convert image to text using ocr\n",
    "        response = detect_image_text(image_bytes)\n",
    "        \n",
    "        # write the respose into txt file with same name as jpg \n",
    "        try:\n",
    "            text_filename = basepath+filename+\".txt\"\n",
    "            with open(text_filename, \"w\") as fp:\n",
    "                fp.write(response['responses'][0]['textAnnotations'][0]['description'])\n",
    "                print(\"created file:\", text_filename)\n",
    "        except UnicodeEncodeError as e:\n",
    "            temp = response['responses'][0]['textAnnotations'][0]['description']\n",
    "            with open(text_filename,\"wb\") as fp1:\n",
    "                fp1.write(temp.encode(\"utf-8\"))\n",
    "    except Exception as e:\n",
    "        with open(basepath+\"exception.txt\",\"a\") as ep:\n",
    "            ep.write(filename)\n",
    "#             ep.write(\"Exception found: {}\".format(e)"
   ]
  },
  {
   "cell_type": "markdown",
   "metadata": {},
   "source": [
    "#### below code to read text file write into a excel sheet with filename and text details "
   ]
  },
  {
   "cell_type": "code",
   "execution_count": 1,
   "metadata": {},
   "outputs": [],
   "source": [
    "import xlwt \n",
    "from xlwt import Workbook "
   ]
  },
  {
   "cell_type": "code",
   "execution_count": 12,
   "metadata": {},
   "outputs": [
    {
     "name": "stdout",
     "output_type": "stream",
     "text": [
      "Agenda.txt\n",
      "Agreement.txt\n",
      "Agreement1.txt\n",
      "Agreement2.txt\n",
      "Business Card 1.txt\n",
      "Business card.txt\n",
      "Check.txt\n",
      "CORPORATE 1.txt\n",
      "Corporate.txt\n",
      "Cover page 2.txt\n",
      "Cover Page.txt\n",
      "Cover Page1.txt\n",
      "Diagram 1.txt\n",
      "Diagram.txt\n",
      "Envelope 1.txt\n",
      "Envelope 2.txt\n",
      "Envelope 3.txt\n",
      "Envelope.txt\n",
      "exception.txt\n",
      "FAX.txt\n",
      "FaxMailgramTelefaxTelegram 1.txt\n",
      "FaxMailgramTelefaxTelegram.txt\n",
      "File Folder 1.txt\n",
      "File Folder.txt\n",
      "Finance 1.txt\n",
      "Finance.txt\n",
      "Folder Back Cover 1.txt\n",
      "Folder Back Cover.txt\n",
      "Folder Front Cover or Spine 1.txt\n",
      "Folder Front Cover or Spine.txt\n",
      "Graph 1.txt\n",
      "Graph 2.txt\n",
      "Graph.txt\n",
      "Invoice 1.txt\n",
      "Invoice 2.txt\n",
      "Invoice 3.txt\n",
      "Invoice.txt\n",
      "Memorandum 1.txt\n",
      "Memorandum.txt\n",
      "Memorandum3.txt\n",
      "MSDSSDS.txt\n",
      "Order.txt\n",
      "Screenshot_1.txt\n",
      "Shipping Document 1.txt\n",
      "Shipping Document.txt\n",
      "TAB.txt\n",
      "TESTING REPORT.txt\n"
     ]
    }
   ],
   "source": [
    "# Workbook is created \n",
    "wb1 = Workbook() \n",
    "  \n",
    "# add_sheet is used to create sheet. \n",
    "sheet2 = wb1.add_sheet('Sheet 1') \n",
    "\n",
    "import ntpath\n",
    "\n",
    "row_val = 0\n",
    "basepath = r'C:\\Users\\Dell\\Desktop\\Acadgild\\project\\ocr\\label Images\\05.11.2019\\\\'\n",
    "for val in glob.glob(basepath+'*.txt'):\n",
    "    \n",
    "    try:\n",
    "        with open(val, \"r\", newline='', encoding='ISO-8859-1') as fp :\n",
    "            content = fp.read()\n",
    "        print(ntpath.basename(val))\n",
    "        filename = ntpath.basename(val).split(\".\")[0]\n",
    "        sheet2.write(row_val, 0, filename)\n",
    "        try:\n",
    "            sheet2.write(row_val, 1, content[:32767])\n",
    "        except UnicodeEncodeError as e:\n",
    "            sheet2.write(row_val, 1, content.encode(\"utf-8\")[:32767])\n",
    "    except Exception as e:\n",
    "        print(\"found exception while reading {} and exception is {}\".format(filename, e))\n",
    "    row_val += 1\n",
    "    \n",
    "wb1.save('xlwtexample_main_label.xls') "
   ]
  },
  {
   "cell_type": "code",
   "execution_count": null,
   "metadata": {},
   "outputs": [],
   "source": []
  }
 ],
 "metadata": {
  "kernelspec": {
   "display_name": "Python 3",
   "language": "python",
   "name": "python3"
  },
  "language_info": {
   "codemirror_mode": {
    "name": "ipython",
    "version": 3
   },
   "file_extension": ".py",
   "mimetype": "text/x-python",
   "name": "python",
   "nbconvert_exporter": "python",
   "pygments_lexer": "ipython3",
   "version": "3.6.6"
  }
 },
 "nbformat": 4,
 "nbformat_minor": 2
}
